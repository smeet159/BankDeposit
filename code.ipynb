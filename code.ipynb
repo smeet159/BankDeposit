{
  "nbformat": 4,
  "nbformat_minor": 0,
  "metadata": {
    "colab": {
      "name": "code.ipynb",
      "version": "0.3.2",
      "provenance": [],
      "collapsed_sections": []
    },
    "kernelspec": {
      "name": "python3",
      "display_name": "Python 3"
    }
  },
  "cells": [
    {
      "metadata": {
        "id": "5f8Pg8KLLRBS",
        "colab_type": "code",
        "colab": {}
      },
      "cell_type": "code",
      "source": [
        "import numpy as np\n",
        "import matplotlib.pyplot as plt\n",
        "import pandas as pd \n",
        "from sklearn.model_selection import train_test_split\n",
        "from sklearn.utils import shuffle"
      ],
      "execution_count": 0,
      "outputs": []
    },
    {
      "metadata": {
        "id": "AfSPeuPJLUW0",
        "colab_type": "code",
        "outputId": "fe91d60d-7f46-4700-b5bb-26cf09c914db",
        "colab": {
          "base_uri": "https://localhost:8080/",
          "height": 253
        }
      },
      "cell_type": "code",
      "source": [
        "# here the seperator in csv file is ; so we used sep=';'\n",
        "train_data = pd.read_csv(\"bank-additional-full.csv\",sep=';')\n",
        "train_data.head()"
      ],
      "execution_count": 65,
      "outputs": [
        {
          "output_type": "execute_result",
          "data": {
            "text/html": [
              "<div>\n",
              "<style scoped>\n",
              "    .dataframe tbody tr th:only-of-type {\n",
              "        vertical-align: middle;\n",
              "    }\n",
              "\n",
              "    .dataframe tbody tr th {\n",
              "        vertical-align: top;\n",
              "    }\n",
              "\n",
              "    .dataframe thead th {\n",
              "        text-align: right;\n",
              "    }\n",
              "</style>\n",
              "<table border=\"1\" class=\"dataframe\">\n",
              "  <thead>\n",
              "    <tr style=\"text-align: right;\">\n",
              "      <th></th>\n",
              "      <th>age</th>\n",
              "      <th>job</th>\n",
              "      <th>marital</th>\n",
              "      <th>education</th>\n",
              "      <th>default</th>\n",
              "      <th>housing</th>\n",
              "      <th>loan</th>\n",
              "      <th>contact</th>\n",
              "      <th>month</th>\n",
              "      <th>day_of_week</th>\n",
              "      <th>...</th>\n",
              "      <th>campaign</th>\n",
              "      <th>pdays</th>\n",
              "      <th>previous</th>\n",
              "      <th>poutcome</th>\n",
              "      <th>emp.var.rate</th>\n",
              "      <th>cons.price.idx</th>\n",
              "      <th>cons.conf.idx</th>\n",
              "      <th>euribor3m</th>\n",
              "      <th>nr.employed</th>\n",
              "      <th>y</th>\n",
              "    </tr>\n",
              "  </thead>\n",
              "  <tbody>\n",
              "    <tr>\n",
              "      <th>0</th>\n",
              "      <td>56</td>\n",
              "      <td>housemaid</td>\n",
              "      <td>married</td>\n",
              "      <td>basic.4y</td>\n",
              "      <td>no</td>\n",
              "      <td>no</td>\n",
              "      <td>no</td>\n",
              "      <td>telephone</td>\n",
              "      <td>may</td>\n",
              "      <td>mon</td>\n",
              "      <td>...</td>\n",
              "      <td>1</td>\n",
              "      <td>999</td>\n",
              "      <td>0</td>\n",
              "      <td>nonexistent</td>\n",
              "      <td>1.1</td>\n",
              "      <td>93.994</td>\n",
              "      <td>-36.4</td>\n",
              "      <td>4.857</td>\n",
              "      <td>5191.0</td>\n",
              "      <td>no</td>\n",
              "    </tr>\n",
              "    <tr>\n",
              "      <th>1</th>\n",
              "      <td>57</td>\n",
              "      <td>services</td>\n",
              "      <td>married</td>\n",
              "      <td>high.school</td>\n",
              "      <td>unknown</td>\n",
              "      <td>no</td>\n",
              "      <td>no</td>\n",
              "      <td>telephone</td>\n",
              "      <td>may</td>\n",
              "      <td>mon</td>\n",
              "      <td>...</td>\n",
              "      <td>1</td>\n",
              "      <td>999</td>\n",
              "      <td>0</td>\n",
              "      <td>nonexistent</td>\n",
              "      <td>1.1</td>\n",
              "      <td>93.994</td>\n",
              "      <td>-36.4</td>\n",
              "      <td>4.857</td>\n",
              "      <td>5191.0</td>\n",
              "      <td>no</td>\n",
              "    </tr>\n",
              "    <tr>\n",
              "      <th>2</th>\n",
              "      <td>37</td>\n",
              "      <td>services</td>\n",
              "      <td>married</td>\n",
              "      <td>high.school</td>\n",
              "      <td>no</td>\n",
              "      <td>yes</td>\n",
              "      <td>no</td>\n",
              "      <td>telephone</td>\n",
              "      <td>may</td>\n",
              "      <td>mon</td>\n",
              "      <td>...</td>\n",
              "      <td>1</td>\n",
              "      <td>999</td>\n",
              "      <td>0</td>\n",
              "      <td>nonexistent</td>\n",
              "      <td>1.1</td>\n",
              "      <td>93.994</td>\n",
              "      <td>-36.4</td>\n",
              "      <td>4.857</td>\n",
              "      <td>5191.0</td>\n",
              "      <td>no</td>\n",
              "    </tr>\n",
              "    <tr>\n",
              "      <th>3</th>\n",
              "      <td>40</td>\n",
              "      <td>admin.</td>\n",
              "      <td>married</td>\n",
              "      <td>basic.6y</td>\n",
              "      <td>no</td>\n",
              "      <td>no</td>\n",
              "      <td>no</td>\n",
              "      <td>telephone</td>\n",
              "      <td>may</td>\n",
              "      <td>mon</td>\n",
              "      <td>...</td>\n",
              "      <td>1</td>\n",
              "      <td>999</td>\n",
              "      <td>0</td>\n",
              "      <td>nonexistent</td>\n",
              "      <td>1.1</td>\n",
              "      <td>93.994</td>\n",
              "      <td>-36.4</td>\n",
              "      <td>4.857</td>\n",
              "      <td>5191.0</td>\n",
              "      <td>no</td>\n",
              "    </tr>\n",
              "    <tr>\n",
              "      <th>4</th>\n",
              "      <td>56</td>\n",
              "      <td>services</td>\n",
              "      <td>married</td>\n",
              "      <td>high.school</td>\n",
              "      <td>no</td>\n",
              "      <td>no</td>\n",
              "      <td>yes</td>\n",
              "      <td>telephone</td>\n",
              "      <td>may</td>\n",
              "      <td>mon</td>\n",
              "      <td>...</td>\n",
              "      <td>1</td>\n",
              "      <td>999</td>\n",
              "      <td>0</td>\n",
              "      <td>nonexistent</td>\n",
              "      <td>1.1</td>\n",
              "      <td>93.994</td>\n",
              "      <td>-36.4</td>\n",
              "      <td>4.857</td>\n",
              "      <td>5191.0</td>\n",
              "      <td>no</td>\n",
              "    </tr>\n",
              "  </tbody>\n",
              "</table>\n",
              "<p>5 rows × 21 columns</p>\n",
              "</div>"
            ],
            "text/plain": [
              "   age        job  marital    education  default housing loan    contact  \\\n",
              "0   56  housemaid  married     basic.4y       no      no   no  telephone   \n",
              "1   57   services  married  high.school  unknown      no   no  telephone   \n",
              "2   37   services  married  high.school       no     yes   no  telephone   \n",
              "3   40     admin.  married     basic.6y       no      no   no  telephone   \n",
              "4   56   services  married  high.school       no      no  yes  telephone   \n",
              "\n",
              "  month day_of_week ...  campaign  pdays  previous     poutcome emp.var.rate  \\\n",
              "0   may         mon ...         1    999         0  nonexistent          1.1   \n",
              "1   may         mon ...         1    999         0  nonexistent          1.1   \n",
              "2   may         mon ...         1    999         0  nonexistent          1.1   \n",
              "3   may         mon ...         1    999         0  nonexistent          1.1   \n",
              "4   may         mon ...         1    999         0  nonexistent          1.1   \n",
              "\n",
              "   cons.price.idx  cons.conf.idx  euribor3m  nr.employed   y  \n",
              "0          93.994          -36.4      4.857       5191.0  no  \n",
              "1          93.994          -36.4      4.857       5191.0  no  \n",
              "2          93.994          -36.4      4.857       5191.0  no  \n",
              "3          93.994          -36.4      4.857       5191.0  no  \n",
              "4          93.994          -36.4      4.857       5191.0  no  \n",
              "\n",
              "[5 rows x 21 columns]"
            ]
          },
          "metadata": {
            "tags": []
          },
          "execution_count": 65
        }
      ]
    },
    {
      "metadata": {
        "id": "kclpu2_dLWuf",
        "colab_type": "code",
        "colab": {}
      },
      "cell_type": "code",
      "source": [
        "train_data['job']=train_data['job'].astype('category').cat.codes\n",
        "train_data['marital']=train_data['marital'].astype('category').cat.codes\n",
        "train_data['education']=train_data['education'].astype('category').cat.codes\n",
        "train_data['default']=train_data['default'].astype('category').cat.codes\n",
        "train_data['housing']=train_data['housing'].astype('category').cat.codes\n",
        "train_data['loan']=train_data['loan'].astype('category').cat.codes\n",
        "train_data['contact']=train_data['contact'].astype('category').cat.codes\n",
        "train_data['month']=train_data['month'].astype('category').cat.codes\n",
        "train_data['day_of_week']=train_data['day_of_week'].astype('category').cat.codes\n",
        "\n",
        "#train_data['campaign']=train_data['campaign'].astype('category').cat.codes\n",
        "#train_data['pdays']=train_data['pdays'].astype('category').cat.codes\n",
        "train_data['poutcome']=train_data['poutcome'].astype('category').cat.codes\n",
        "\n",
        "#train_data['emp.var.rate']=train_data['emp.var.rate'].astype('category').cat.codes\n",
        "#train_data['cons.price.idx']=train_data['cons.price.idx'].astype('category').cat.codes\n",
        "#train_data['cons.conf.idx']=train_data['cons.conf.idx'].astype('category').cat.codes\n",
        "#train_data['euribor3m']=train_data['euribor3m'].astype('category').cat.codes\n",
        "#train_data['nr.employed']=train_data['nr.employed'].astype('category').cat.codes\n",
        "\n",
        "train_data['y']=train_data['y'].astype('category').cat.codes"
      ],
      "execution_count": 0,
      "outputs": []
    },
    {
      "metadata": {
        "id": "pHCA_Xt4W1FW",
        "colab_type": "code",
        "colab": {}
      },
      "cell_type": "code",
      "source": [
        "#np.shape(train_data)\n",
        "#train_data.replace('unknown','NaN')\n",
        "#train_data.dropna(inplace=True)\n",
        "#np.shape(train_data)"
      ],
      "execution_count": 0,
      "outputs": []
    },
    {
      "metadata": {
        "id": "Jjfi78EObdq1",
        "colab_type": "text"
      },
      "cell_type": "markdown",
      "source": [
        "By dropping the raws containing 'unknown', We are losing 25% of the data. im additon to that,accuracy also drops to 88%. So, here we will not drop unknown values."
      ]
    },
    {
      "metadata": {
        "id": "drplWUtDLg2q",
        "colab_type": "code",
        "outputId": "86d4afa2-ea04-42f2-c222-d4870d9baad8",
        "colab": {
          "base_uri": "https://localhost:8080/",
          "height": 391
        }
      },
      "cell_type": "code",
      "source": [
        "correlation = train_data.corr()\n",
        "#correlation of output with other columns\n",
        "correlation['y']\n"
      ],
      "execution_count": 68,
      "outputs": [
        {
          "output_type": "execute_result",
          "data": {
            "text/plain": [
              "age               0.030399\n",
              "job               0.025122\n",
              "marital           0.046203\n",
              "education         0.057799\n",
              "default          -0.099352\n",
              "housing           0.011552\n",
              "loan             -0.004909\n",
              "contact          -0.144773\n",
              "month            -0.006065\n",
              "day_of_week       0.015967\n",
              "duration          0.405274\n",
              "campaign         -0.066357\n",
              "pdays            -0.324914\n",
              "previous          0.230181\n",
              "poutcome          0.129789\n",
              "emp.var.rate     -0.298334\n",
              "cons.price.idx   -0.136211\n",
              "cons.conf.idx     0.054878\n",
              "euribor3m        -0.307771\n",
              "nr.employed      -0.354678\n",
              "y                 1.000000\n",
              "Name: y, dtype: float64"
            ]
          },
          "metadata": {
            "tags": []
          },
          "execution_count": 68
        }
      ]
    },
    {
      "metadata": {
        "id": "i5tMWlOSNy7R",
        "colab_type": "text"
      },
      "cell_type": "markdown",
      "source": [
        "Fom above correlation we can eliminate the values which are close to zero(both positive side and negative side). And we  also came to know that 'duration' is most import in predicting the outcome."
      ]
    },
    {
      "metadata": {
        "id": "wONmfxAfMtSB",
        "colab_type": "code",
        "colab": {}
      },
      "cell_type": "code",
      "source": [
        "#train_data = train_data.drop ('cons.conf.idx' , axis = 1)\n",
        "train_data = train_data.drop('loan',axis=1)\n",
        "train_data = train_data.drop ('month' , axis =1)\n",
        "train_data = train_data.drop ('day_of_week' , axis = 1)\n",
        "train_data = train_data.drop ('housing' , axis = 1)"
      ],
      "execution_count": 0,
      "outputs": []
    },
    {
      "metadata": {
        "id": "k3j9KPsnPYTO",
        "colab_type": "code",
        "outputId": "c9e85eea-e12d-40d8-face-5e3fc4b5c8d6",
        "colab": {
          "base_uri": "https://localhost:8080/",
          "height": 224
        }
      },
      "cell_type": "code",
      "source": [
        "\n",
        "train_data.head()"
      ],
      "execution_count": 70,
      "outputs": [
        {
          "output_type": "execute_result",
          "data": {
            "text/html": [
              "<div>\n",
              "<style scoped>\n",
              "    .dataframe tbody tr th:only-of-type {\n",
              "        vertical-align: middle;\n",
              "    }\n",
              "\n",
              "    .dataframe tbody tr th {\n",
              "        vertical-align: top;\n",
              "    }\n",
              "\n",
              "    .dataframe thead th {\n",
              "        text-align: right;\n",
              "    }\n",
              "</style>\n",
              "<table border=\"1\" class=\"dataframe\">\n",
              "  <thead>\n",
              "    <tr style=\"text-align: right;\">\n",
              "      <th></th>\n",
              "      <th>age</th>\n",
              "      <th>job</th>\n",
              "      <th>marital</th>\n",
              "      <th>education</th>\n",
              "      <th>default</th>\n",
              "      <th>contact</th>\n",
              "      <th>duration</th>\n",
              "      <th>campaign</th>\n",
              "      <th>pdays</th>\n",
              "      <th>previous</th>\n",
              "      <th>poutcome</th>\n",
              "      <th>emp.var.rate</th>\n",
              "      <th>cons.price.idx</th>\n",
              "      <th>cons.conf.idx</th>\n",
              "      <th>euribor3m</th>\n",
              "      <th>nr.employed</th>\n",
              "      <th>y</th>\n",
              "    </tr>\n",
              "  </thead>\n",
              "  <tbody>\n",
              "    <tr>\n",
              "      <th>0</th>\n",
              "      <td>56</td>\n",
              "      <td>3</td>\n",
              "      <td>1</td>\n",
              "      <td>0</td>\n",
              "      <td>0</td>\n",
              "      <td>1</td>\n",
              "      <td>261</td>\n",
              "      <td>1</td>\n",
              "      <td>999</td>\n",
              "      <td>0</td>\n",
              "      <td>1</td>\n",
              "      <td>1.1</td>\n",
              "      <td>93.994</td>\n",
              "      <td>-36.4</td>\n",
              "      <td>4.857</td>\n",
              "      <td>5191.0</td>\n",
              "      <td>0</td>\n",
              "    </tr>\n",
              "    <tr>\n",
              "      <th>1</th>\n",
              "      <td>57</td>\n",
              "      <td>7</td>\n",
              "      <td>1</td>\n",
              "      <td>3</td>\n",
              "      <td>1</td>\n",
              "      <td>1</td>\n",
              "      <td>149</td>\n",
              "      <td>1</td>\n",
              "      <td>999</td>\n",
              "      <td>0</td>\n",
              "      <td>1</td>\n",
              "      <td>1.1</td>\n",
              "      <td>93.994</td>\n",
              "      <td>-36.4</td>\n",
              "      <td>4.857</td>\n",
              "      <td>5191.0</td>\n",
              "      <td>0</td>\n",
              "    </tr>\n",
              "    <tr>\n",
              "      <th>2</th>\n",
              "      <td>37</td>\n",
              "      <td>7</td>\n",
              "      <td>1</td>\n",
              "      <td>3</td>\n",
              "      <td>0</td>\n",
              "      <td>1</td>\n",
              "      <td>226</td>\n",
              "      <td>1</td>\n",
              "      <td>999</td>\n",
              "      <td>0</td>\n",
              "      <td>1</td>\n",
              "      <td>1.1</td>\n",
              "      <td>93.994</td>\n",
              "      <td>-36.4</td>\n",
              "      <td>4.857</td>\n",
              "      <td>5191.0</td>\n",
              "      <td>0</td>\n",
              "    </tr>\n",
              "    <tr>\n",
              "      <th>3</th>\n",
              "      <td>40</td>\n",
              "      <td>0</td>\n",
              "      <td>1</td>\n",
              "      <td>1</td>\n",
              "      <td>0</td>\n",
              "      <td>1</td>\n",
              "      <td>151</td>\n",
              "      <td>1</td>\n",
              "      <td>999</td>\n",
              "      <td>0</td>\n",
              "      <td>1</td>\n",
              "      <td>1.1</td>\n",
              "      <td>93.994</td>\n",
              "      <td>-36.4</td>\n",
              "      <td>4.857</td>\n",
              "      <td>5191.0</td>\n",
              "      <td>0</td>\n",
              "    </tr>\n",
              "    <tr>\n",
              "      <th>4</th>\n",
              "      <td>56</td>\n",
              "      <td>7</td>\n",
              "      <td>1</td>\n",
              "      <td>3</td>\n",
              "      <td>0</td>\n",
              "      <td>1</td>\n",
              "      <td>307</td>\n",
              "      <td>1</td>\n",
              "      <td>999</td>\n",
              "      <td>0</td>\n",
              "      <td>1</td>\n",
              "      <td>1.1</td>\n",
              "      <td>93.994</td>\n",
              "      <td>-36.4</td>\n",
              "      <td>4.857</td>\n",
              "      <td>5191.0</td>\n",
              "      <td>0</td>\n",
              "    </tr>\n",
              "  </tbody>\n",
              "</table>\n",
              "</div>"
            ],
            "text/plain": [
              "   age  job  marital  education  default  contact  duration  campaign  pdays  \\\n",
              "0   56    3        1          0        0        1       261         1    999   \n",
              "1   57    7        1          3        1        1       149         1    999   \n",
              "2   37    7        1          3        0        1       226         1    999   \n",
              "3   40    0        1          1        0        1       151         1    999   \n",
              "4   56    7        1          3        0        1       307         1    999   \n",
              "\n",
              "   previous  poutcome  emp.var.rate  cons.price.idx  cons.conf.idx  euribor3m  \\\n",
              "0         0         1           1.1          93.994          -36.4      4.857   \n",
              "1         0         1           1.1          93.994          -36.4      4.857   \n",
              "2         0         1           1.1          93.994          -36.4      4.857   \n",
              "3         0         1           1.1          93.994          -36.4      4.857   \n",
              "4         0         1           1.1          93.994          -36.4      4.857   \n",
              "\n",
              "   nr.employed  y  \n",
              "0       5191.0  0  \n",
              "1       5191.0  0  \n",
              "2       5191.0  0  \n",
              "3       5191.0  0  \n",
              "4       5191.0  0  "
            ]
          },
          "metadata": {
            "tags": []
          },
          "execution_count": 70
        }
      ]
    },
    {
      "metadata": {
        "id": "B0GaGN80Sc8f",
        "colab_type": "code",
        "colab": {}
      },
      "cell_type": "code",
      "source": [
        "# spliting the training data into input and target variable\n",
        "X = train_data.iloc[:,:-1]\n",
        "y = train_data.iloc[:,-1]\n",
        "y= np.asarray(y)"
      ],
      "execution_count": 0,
      "outputs": []
    },
    {
      "metadata": {
        "id": "QO8pWxtWSA-Z",
        "colab_type": "code",
        "colab": {}
      },
      "cell_type": "code",
      "source": [
        "\n",
        "#stratify=True results in consistent class distribution between training and test sets\n",
        "X_train, X_test, y_train, y_test = train_test_split(X, y, test_size=0.2, random_state=42, stratify=y)"
      ],
      "execution_count": 0,
      "outputs": []
    },
    {
      "metadata": {
        "id": "xyhg2y3xS7pB",
        "colab_type": "code",
        "outputId": "364b14da-09fd-4655-c1d2-bad360805a8b",
        "colab": {
          "base_uri": "https://localhost:8080/",
          "height": 136
        }
      },
      "cell_type": "code",
      "source": [
        "from sklearn.ensemble import RandomForestClassifier \n",
        "model0=RandomForestClassifier(n_estimators=100)\n",
        "model0.fit(X_train,y_train)"
      ],
      "execution_count": 73,
      "outputs": [
        {
          "output_type": "execute_result",
          "data": {
            "text/plain": [
              "RandomForestClassifier(bootstrap=True, class_weight=None, criterion='gini',\n",
              "            max_depth=None, max_features='auto', max_leaf_nodes=None,\n",
              "            min_impurity_decrease=0.0, min_impurity_split=None,\n",
              "            min_samples_leaf=1, min_samples_split=2,\n",
              "            min_weight_fraction_leaf=0.0, n_estimators=100, n_jobs=None,\n",
              "            oob_score=False, random_state=None, verbose=0,\n",
              "            warm_start=False)"
            ]
          },
          "metadata": {
            "tags": []
          },
          "execution_count": 73
        }
      ]
    },
    {
      "metadata": {
        "id": "3P8xs4MJTeqk",
        "colab_type": "code",
        "outputId": "5843009b-9cf1-4edc-9ce3-3d8334e0e7fd",
        "colab": {
          "base_uri": "https://localhost:8080/",
          "height": 51
        }
      },
      "cell_type": "code",
      "source": [
        "#accuracy of random forest classifier\n",
        "y_pred_prob = model0.predict_proba(X_test)\n",
        "y_pred = []\n",
        "\n",
        "#Here we set classifer threshold to be 0.75. It means that the model will predict with 75% confidence that customer will make the deposit or not.\n",
        "for i in range(0,len(y_pred_prob)):\n",
        "  if y_pred_prob[i][0]>=y_pred_prob[i][1] :\n",
        "    y_pred.append(0)\n",
        "  elif y_pred_prob[i][1]< 0.75:\n",
        "    y_pred.append(0)\n",
        "  else:\n",
        "    y_pred.append(1)\n",
        "\n",
        "\n",
        "#y_pred will be the final prediction of the model  \n",
        "y_pred\n",
        "   \n",
        "    \n",
        "print('Acording to our model, out of {} customers, {} customers are very likely to make the deposit.'.format(len(y_pred),sum(y_pred)))\n",
        "\n",
        "print(\"Accuracy of this model is {}\".format(model0.score(X_test,y_test)))"
      ],
      "execution_count": 74,
      "outputs": [
        {
          "output_type": "stream",
          "text": [
            "Acording to our model, out of 8238 customers, 213 customers are very likely to make the deposit.\n",
            "Accuracy of this model is 0.9208545763534839\n"
          ],
          "name": "stdout"
        }
      ]
    }
  ]
}